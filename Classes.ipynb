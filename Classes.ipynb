{
 "cells": [
  {
   "cell_type": "markdown",
   "metadata": {},
   "source": [
    "### 1. Classes"
   ]
  },
  {
   "cell_type": "code",
   "execution_count": 66,
   "metadata": {},
   "outputs": [],
   "source": [
    "#class as boilerplates for objects\n",
    "import datetime\n",
    "class Person():\n",
    "    #the metho that runs as soon as you create a class\n",
    "    def __init__(self, name, age, color):\n",
    "        #create some attributes for our person class\n",
    "        self.name = name\n",
    "        self.age = age\n",
    "        self.color = color\n",
    "\n",
    "    # create \"calculate date of birth\" method\n",
    "    def yearOfBirth(self):\n",
    "        return f\"{self.name} was born in {int(datetime.datetime.now().year) - self.age}.\"\n",
    "    \n",
    "    # age projection \n",
    "    def projectedAge(self, years=5):\n",
    "        return f\"in {years} years, {self.name} will be {self.age + years} years old\"\n"
   ]
  },
  {
   "cell_type": "code",
   "execution_count": 67,
   "metadata": {},
   "outputs": [],
   "source": [
    "new_person = Person(\"Ricky\", 27, \"blue\")"
   ]
  },
  {
   "cell_type": "code",
   "execution_count": 68,
   "metadata": {},
   "outputs": [
    {
     "data": {
      "text/plain": [
       "'Ricky'"
      ]
     },
     "execution_count": 68,
     "metadata": {},
     "output_type": "execute_result"
    }
   ],
   "source": [
    "#name attribute\n",
    "new_person.name"
   ]
  },
  {
   "cell_type": "code",
   "execution_count": 69,
   "metadata": {},
   "outputs": [
    {
     "data": {
      "text/plain": [
       "27"
      ]
     },
     "execution_count": 69,
     "metadata": {},
     "output_type": "execute_result"
    }
   ],
   "source": [
    "#age attribute\n",
    "new_person.age"
   ]
  },
  {
   "cell_type": "code",
   "execution_count": 70,
   "metadata": {},
   "outputs": [
    {
     "data": {
      "text/plain": [
       "'blue'"
      ]
     },
     "execution_count": 70,
     "metadata": {},
     "output_type": "execute_result"
    }
   ],
   "source": [
    "#favourite color attribute\n",
    "new_person.color"
   ]
  },
  {
   "cell_type": "code",
   "execution_count": 71,
   "metadata": {},
   "outputs": [
    {
     "data": {
      "text/plain": [
       "'Ricky was born in 1997.'"
      ]
     },
     "execution_count": 71,
     "metadata": {},
     "output_type": "execute_result"
    }
   ],
   "source": [
    "#year of birth attribute\n",
    "new_person.yearOfBirth()"
   ]
  },
  {
   "cell_type": "code",
   "execution_count": 72,
   "metadata": {},
   "outputs": [
    {
     "data": {
      "text/plain": [
       "'in 20 years, Ricky will be 47 years old'"
      ]
     },
     "execution_count": 72,
     "metadata": {},
     "output_type": "execute_result"
    }
   ],
   "source": [
    "#run a method with a keyword argument\n",
    "new_person.projectedAge(years=20)"
   ]
  },
  {
   "cell_type": "markdown",
   "metadata": {},
   "source": [
    "## Inheritance\n",
    "* it takes an existing class and builds on it with additional characteristics\n",
    "* Parent is the class passing down attributes and methods\n",
    "* Child is the class inheriting the methods and attributes\n"
   ]
  },
  {
   "cell_type": "code",
   "execution_count": 73,
   "metadata": {},
   "outputs": [],
   "source": [
    "# create a child class\n",
    "\n",
    "class Astronaut(Person):\n",
    "    def __init__(self, name, age, color, missionDurationInMonths):\n",
    "        #this is what gives us inheritance\n",
    "        super().__init__(name,age,color)\n",
    "        self.missionDurationInMonths = missionDurationInMonths\n",
    "\n",
    "    \n",
    "    # returns characteristics of an astronaut\n",
    "\n",
    "    def Characteristics(self):\n",
    "        print(f\"Name: {self.name}\")\n",
    "        print(f\"Age: {self.age}\")\n",
    "        print(f\"Favourite Colour: {self.color}\")\n",
    "        print(f\"Mission Duration in Months: {self.missionDurationInMonths}\")\n",
    "\n",
    "    #project age on return from mission\n",
    "\n",
    "    def YearsOnReturn(self):\n",
    "        return f\"{self.name} will be {self.age + self.missionDurationInMonths/12} years old on return.\"\n",
    "       \n"
   ]
  },
  {
   "cell_type": "code",
   "execution_count": 74,
   "metadata": {},
   "outputs": [],
   "source": [
    "new_astronaut = Astronaut(\"Niel\", 30, \"red\", 60)"
   ]
  },
  {
   "cell_type": "code",
   "execution_count": 75,
   "metadata": {},
   "outputs": [
    {
     "name": "stdout",
     "output_type": "stream",
     "text": [
      "Name: Niel\n",
      "Age: 30\n",
      "Favourite Colour: red\n",
      "Mission Duration in Months: 60\n"
     ]
    }
   ],
   "source": [
    "#checking astronaut's characteristics\n",
    "new_astronaut.Characteristics()"
   ]
  },
  {
   "cell_type": "code",
   "execution_count": 76,
   "metadata": {},
   "outputs": [
    {
     "data": {
      "text/plain": [
       "'Niel will be 35.0 years old on return.'"
      ]
     },
     "execution_count": 76,
     "metadata": {},
     "output_type": "execute_result"
    }
   ],
   "source": [
    "#checking astronaut's age upon return\n",
    "\n",
    "new_astronaut.YearsOnReturn()"
   ]
  },
  {
   "cell_type": "code",
   "execution_count": 77,
   "metadata": {},
   "outputs": [
    {
     "data": {
      "text/plain": [
       "'Niel was born in 1994.'"
      ]
     },
     "execution_count": 77,
     "metadata": {},
     "output_type": "execute_result"
    }
   ],
   "source": [
    "new_astronaut.yearOfBirth()"
   ]
  },
  {
   "cell_type": "code",
   "execution_count": null,
   "metadata": {},
   "outputs": [],
   "source": []
  },
  {
   "cell_type": "code",
   "execution_count": null,
   "metadata": {},
   "outputs": [],
   "source": []
  }
 ],
 "metadata": {
  "kernelspec": {
   "display_name": "Python 3",
   "language": "python",
   "name": "python3"
  },
  "language_info": {
   "codemirror_mode": {
    "name": "ipython",
    "version": 3
   },
   "file_extension": ".py",
   "mimetype": "text/x-python",
   "name": "python",
   "nbconvert_exporter": "python",
   "pygments_lexer": "ipython3",
   "version": "3.13.0"
  }
 },
 "nbformat": 4,
 "nbformat_minor": 2
}
